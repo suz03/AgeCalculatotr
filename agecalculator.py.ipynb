class AgeCalculator:
    def __init__(self, age):
        self.age = age

    def calculate_duration(self):
        self.months = self.age * 12
        self.weeks = self.age * 52.1775  # Approximate weeks in a year
        self.days = self.age * 365
        self.hours = self.days * 24
        self.minutes = self.hours * 60
        self.seconds = self.minutes * 60

    def display_duration(self):
        print("Months:", self.months)
        print("Weeks:", self.weeks)
        print("Days:", self.days)
        print("Hours:", self.hours)
        print("Minutes:", self.minutes)
        print("Seconds:", self.seconds)

# User input
age = int(input("Enter the person's age in years: "))

# Create an AgeCalculator instance
calculator = AgeCalculator(age)

# Calculate the duration
calculator.calculate_duration()

# Display the results
calculator.display_duration()

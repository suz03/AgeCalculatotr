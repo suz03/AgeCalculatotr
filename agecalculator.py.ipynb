{
 "cells": [
  {
   "cell_type": "code",
   "execution_count": 3,
   "id": "edc91dee",
   "metadata": {},
   "outputs": [
    {
     "name": "stdout",
     "output_type": "stream",
     "text": [
      "Enter the person's age in years: 5\n",
      "Months: 60.00\n",
      "Weeks: 260.89\n",
      "Days: 1825.00\n",
      "Hours: 43800.00\n",
      "Minutes: 2628000.00\n",
      "Seconds: 157680000.00\n"
     ]
    }
   ],
   "source": [
    "class AgeCalculator:\n",
    "    def __init__(self, age):\n",
    "        self.age = age\n",
    "\n",
    "    def calculate_duration(self):\n",
    "        months = self.age * 12\n",
    "        weeks = self.age * 52.1775 \n",
    "        days = self.age * 365\n",
    "        hours = days * 24\n",
    "        minutes = hours * 60\n",
    "        seconds = minutes * 60\n",
    "\n",
    "        return {\n",
    "            \"Months\": months,\n",
    "            \"Weeks\": weeks,\n",
    "            \"Days\": days,\n",
    "            \"Hours\": hours,\n",
    "            \"Minutes\": minutes,\n",
    "            \"Seconds\": seconds\n",
    "        }\n",
    "\n",
    "    def display_duration(self):\n",
    "        duration = self.calculate_duration()\n",
    "        for unit, value in duration.items():\n",
    "            print(f\"{unit}: {value:.2f}\")\n",
    "\n",
    "# User input\n",
    "age = int(input(\"Enter the person's age in years: \"))\n",
    "\n",
    "calculator = AgeCalculator(age)\n",
    "\n",
    "\n",
    "calculator.display_duration()\n"
   ]
  },
  {
   "cell_type": "code",
   "execution_count": null,
   "id": "f5ffb686",
   "metadata": {},
   "outputs": [],
   "source": []
  }
 ],
 "metadata": {
  "kernelspec": {
   "display_name": "Python 3 (ipykernel)",
   "language": "python",
   "name": "python3"
  },
  "language_info": {
   "codemirror_mode": {
    "name": "ipython",
    "version": 3
   },
   "file_extension": ".py",
   "mimetype": "text/x-python",
   "name": "python",
   "nbconvert_exporter": "python",
   "pygments_lexer": "ipython3",
   "version": "3.11.3"
  }
 },
 "nbformat": 4,
 "nbformat_minor": 5
}
